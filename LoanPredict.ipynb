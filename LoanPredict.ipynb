{
  "cells": [
    {
      "cell_type": "code",
      "execution_count": 8,
      "metadata": {
        "id": "RfL-fDxGATvj"
      },
      "outputs": [],
      "source": [
        "import pandas as pd\n",
        "import numpy as np\n",
        "import matplotlib.pyplot as plt\n",
        "import seaborn as sns\n",
        "import warnings\n",
        "import plotly.express as px\n",
        "warnings.filterwarnings('ignore')"
      ]
    },
    {
      "cell_type": "code",
      "execution_count": 9,
      "metadata": {
        "colab": {
          "base_uri": "https://localhost:8080/",
          "height": 243
        },
        "id": "4ZcCMzLIGbqY",
        "outputId": "1ec49752-9e71-44b9-b140-3043261432f5"
      },
      "outputs": [
        {
          "data": {
            "text/html": [
              "<div>\n",
              "<style scoped>\n",
              "    .dataframe tbody tr th:only-of-type {\n",
              "        vertical-align: middle;\n",
              "    }\n",
              "\n",
              "    .dataframe tbody tr th {\n",
              "        vertical-align: top;\n",
              "    }\n",
              "\n",
              "    .dataframe thead th {\n",
              "        text-align: right;\n",
              "    }\n",
              "</style>\n",
              "<table border=\"1\" class=\"dataframe\">\n",
              "  <thead>\n",
              "    <tr style=\"text-align: right;\">\n",
              "      <th></th>\n",
              "      <th>Loan_ID</th>\n",
              "      <th>Gender</th>\n",
              "      <th>Married</th>\n",
              "      <th>Dependents</th>\n",
              "      <th>Education</th>\n",
              "      <th>Self_Employed</th>\n",
              "      <th>ApplicantIncome</th>\n",
              "      <th>CoapplicantIncome</th>\n",
              "      <th>LoanAmount</th>\n",
              "      <th>Loan_Amount_Term</th>\n",
              "      <th>Credit_History</th>\n",
              "      <th>Property_Area</th>\n",
              "      <th>Loan_Status</th>\n",
              "    </tr>\n",
              "  </thead>\n",
              "  <tbody>\n",
              "    <tr>\n",
              "      <th>0</th>\n",
              "      <td>LP001002</td>\n",
              "      <td>Male</td>\n",
              "      <td>No</td>\n",
              "      <td>0</td>\n",
              "      <td>Graduate</td>\n",
              "      <td>No</td>\n",
              "      <td>5849</td>\n",
              "      <td>0.0</td>\n",
              "      <td>NaN</td>\n",
              "      <td>360.0</td>\n",
              "      <td>1.0</td>\n",
              "      <td>Urban</td>\n",
              "      <td>Y</td>\n",
              "    </tr>\n",
              "    <tr>\n",
              "      <th>1</th>\n",
              "      <td>LP001003</td>\n",
              "      <td>Male</td>\n",
              "      <td>Yes</td>\n",
              "      <td>1</td>\n",
              "      <td>Graduate</td>\n",
              "      <td>No</td>\n",
              "      <td>4583</td>\n",
              "      <td>1508.0</td>\n",
              "      <td>128.0</td>\n",
              "      <td>360.0</td>\n",
              "      <td>1.0</td>\n",
              "      <td>Rural</td>\n",
              "      <td>N</td>\n",
              "    </tr>\n",
              "    <tr>\n",
              "      <th>2</th>\n",
              "      <td>LP001005</td>\n",
              "      <td>Male</td>\n",
              "      <td>Yes</td>\n",
              "      <td>0</td>\n",
              "      <td>Graduate</td>\n",
              "      <td>Yes</td>\n",
              "      <td>3000</td>\n",
              "      <td>0.0</td>\n",
              "      <td>66.0</td>\n",
              "      <td>360.0</td>\n",
              "      <td>1.0</td>\n",
              "      <td>Urban</td>\n",
              "      <td>Y</td>\n",
              "    </tr>\n",
              "    <tr>\n",
              "      <th>3</th>\n",
              "      <td>LP001006</td>\n",
              "      <td>Male</td>\n",
              "      <td>Yes</td>\n",
              "      <td>0</td>\n",
              "      <td>Not Graduate</td>\n",
              "      <td>No</td>\n",
              "      <td>2583</td>\n",
              "      <td>2358.0</td>\n",
              "      <td>120.0</td>\n",
              "      <td>360.0</td>\n",
              "      <td>1.0</td>\n",
              "      <td>Urban</td>\n",
              "      <td>Y</td>\n",
              "    </tr>\n",
              "    <tr>\n",
              "      <th>4</th>\n",
              "      <td>LP001008</td>\n",
              "      <td>Male</td>\n",
              "      <td>No</td>\n",
              "      <td>0</td>\n",
              "      <td>Graduate</td>\n",
              "      <td>No</td>\n",
              "      <td>6000</td>\n",
              "      <td>0.0</td>\n",
              "      <td>141.0</td>\n",
              "      <td>360.0</td>\n",
              "      <td>1.0</td>\n",
              "      <td>Urban</td>\n",
              "      <td>Y</td>\n",
              "    </tr>\n",
              "  </tbody>\n",
              "</table>\n",
              "</div>"
            ],
            "text/plain": [
              "    Loan_ID Gender Married Dependents     Education Self_Employed  \\\n",
              "0  LP001002   Male      No          0      Graduate            No   \n",
              "1  LP001003   Male     Yes          1      Graduate            No   \n",
              "2  LP001005   Male     Yes          0      Graduate           Yes   \n",
              "3  LP001006   Male     Yes          0  Not Graduate            No   \n",
              "4  LP001008   Male      No          0      Graduate            No   \n",
              "\n",
              "   ApplicantIncome  CoapplicantIncome  LoanAmount  Loan_Amount_Term  \\\n",
              "0             5849                0.0         NaN             360.0   \n",
              "1             4583             1508.0       128.0             360.0   \n",
              "2             3000                0.0        66.0             360.0   \n",
              "3             2583             2358.0       120.0             360.0   \n",
              "4             6000                0.0       141.0             360.0   \n",
              "\n",
              "   Credit_History Property_Area Loan_Status  \n",
              "0             1.0         Urban           Y  \n",
              "1             1.0         Rural           N  \n",
              "2             1.0         Urban           Y  \n",
              "3             1.0         Urban           Y  \n",
              "4             1.0         Urban           Y  "
            ]
          },
          "execution_count": 9,
          "metadata": {},
          "output_type": "execute_result"
        }
      ],
      "source": [
        "data = pd.read_csv('Loan_prediction_dataset for Numpy checkpoint.csv')\n",
        "data.head()"
      ]
    },
    {
      "cell_type": "code",
      "execution_count": 10,
      "metadata": {
        "colab": {
          "base_uri": "https://localhost:8080/"
        },
        "id": "-gWmzndZG9PJ",
        "outputId": "4f13c925-db4f-4045-d741-d86cb49def3a"
      },
      "outputs": [
        {
          "data": {
            "text/plain": [
              "Loan_ID               0\n",
              "Gender               13\n",
              "Married               3\n",
              "Dependents           15\n",
              "Education             0\n",
              "Self_Employed        32\n",
              "ApplicantIncome       0\n",
              "CoapplicantIncome     0\n",
              "LoanAmount           22\n",
              "Loan_Amount_Term     14\n",
              "Credit_History       50\n",
              "Property_Area         0\n",
              "Loan_Status           0\n",
              "dtype: int64"
            ]
          },
          "execution_count": 10,
          "metadata": {},
          "output_type": "execute_result"
        }
      ],
      "source": [
        "# checking data for missing values\n",
        "data.isnull().sum()"
      ]
    },
    {
      "cell_type": "code",
      "execution_count": 11,
      "metadata": {
        "colab": {
          "base_uri": "https://localhost:8080/"
        },
        "id": "YJGCXVLkG_sh",
        "outputId": "09c81e49-5259-47f9-9e93-45f8d61d3b85"
      },
      "outputs": [
        {
          "name": "stdout",
          "output_type": "stream",
          "text": [
            "<class 'pandas.core.frame.DataFrame'>\n",
            "RangeIndex: 614 entries, 0 to 613\n",
            "Data columns (total 13 columns):\n",
            " #   Column             Non-Null Count  Dtype  \n",
            "---  ------             --------------  -----  \n",
            " 0   Loan_ID            614 non-null    object \n",
            " 1   Gender             601 non-null    object \n",
            " 2   Married            611 non-null    object \n",
            " 3   Dependents         599 non-null    object \n",
            " 4   Education          614 non-null    object \n",
            " 5   Self_Employed      582 non-null    object \n",
            " 6   ApplicantIncome    614 non-null    int64  \n",
            " 7   CoapplicantIncome  614 non-null    float64\n",
            " 8   LoanAmount         592 non-null    float64\n",
            " 9   Loan_Amount_Term   600 non-null    float64\n",
            " 10  Credit_History     564 non-null    float64\n",
            " 11  Property_Area      614 non-null    object \n",
            " 12  Loan_Status        614 non-null    object \n",
            "dtypes: float64(4), int64(1), object(8)\n",
            "memory usage: 62.5+ KB\n"
          ]
        }
      ],
      "source": [
        "data.info()"
      ]
    },
    {
      "cell_type": "code",
      "execution_count": 12,
      "metadata": {
        "colab": {
          "base_uri": "https://localhost:8080/",
          "height": 300
        },
        "id": "7zm0a26yHI3i",
        "outputId": "7da2f584-3ee1-48cb-a85a-ae8f3ea387cf"
      },
      "outputs": [
        {
          "data": {
            "text/html": [
              "<div>\n",
              "<style scoped>\n",
              "    .dataframe tbody tr th:only-of-type {\n",
              "        vertical-align: middle;\n",
              "    }\n",
              "\n",
              "    .dataframe tbody tr th {\n",
              "        vertical-align: top;\n",
              "    }\n",
              "\n",
              "    .dataframe thead th {\n",
              "        text-align: right;\n",
              "    }\n",
              "</style>\n",
              "<table border=\"1\" class=\"dataframe\">\n",
              "  <thead>\n",
              "    <tr style=\"text-align: right;\">\n",
              "      <th></th>\n",
              "      <th>ApplicantIncome</th>\n",
              "      <th>CoapplicantIncome</th>\n",
              "      <th>LoanAmount</th>\n",
              "      <th>Loan_Amount_Term</th>\n",
              "      <th>Credit_History</th>\n",
              "    </tr>\n",
              "  </thead>\n",
              "  <tbody>\n",
              "    <tr>\n",
              "      <th>count</th>\n",
              "      <td>614.000000</td>\n",
              "      <td>614.000000</td>\n",
              "      <td>592.000000</td>\n",
              "      <td>600.00000</td>\n",
              "      <td>564.000000</td>\n",
              "    </tr>\n",
              "    <tr>\n",
              "      <th>mean</th>\n",
              "      <td>5403.459283</td>\n",
              "      <td>1621.245798</td>\n",
              "      <td>146.412162</td>\n",
              "      <td>342.00000</td>\n",
              "      <td>0.842199</td>\n",
              "    </tr>\n",
              "    <tr>\n",
              "      <th>std</th>\n",
              "      <td>6109.041673</td>\n",
              "      <td>2926.248369</td>\n",
              "      <td>85.587325</td>\n",
              "      <td>65.12041</td>\n",
              "      <td>0.364878</td>\n",
              "    </tr>\n",
              "    <tr>\n",
              "      <th>min</th>\n",
              "      <td>150.000000</td>\n",
              "      <td>0.000000</td>\n",
              "      <td>9.000000</td>\n",
              "      <td>12.00000</td>\n",
              "      <td>0.000000</td>\n",
              "    </tr>\n",
              "    <tr>\n",
              "      <th>25%</th>\n",
              "      <td>2877.500000</td>\n",
              "      <td>0.000000</td>\n",
              "      <td>100.000000</td>\n",
              "      <td>360.00000</td>\n",
              "      <td>1.000000</td>\n",
              "    </tr>\n",
              "    <tr>\n",
              "      <th>50%</th>\n",
              "      <td>3812.500000</td>\n",
              "      <td>1188.500000</td>\n",
              "      <td>128.000000</td>\n",
              "      <td>360.00000</td>\n",
              "      <td>1.000000</td>\n",
              "    </tr>\n",
              "    <tr>\n",
              "      <th>75%</th>\n",
              "      <td>5795.000000</td>\n",
              "      <td>2297.250000</td>\n",
              "      <td>168.000000</td>\n",
              "      <td>360.00000</td>\n",
              "      <td>1.000000</td>\n",
              "    </tr>\n",
              "    <tr>\n",
              "      <th>max</th>\n",
              "      <td>81000.000000</td>\n",
              "      <td>41667.000000</td>\n",
              "      <td>700.000000</td>\n",
              "      <td>480.00000</td>\n",
              "      <td>1.000000</td>\n",
              "    </tr>\n",
              "  </tbody>\n",
              "</table>\n",
              "</div>"
            ],
            "text/plain": [
              "       ApplicantIncome  CoapplicantIncome  LoanAmount  Loan_Amount_Term  \\\n",
              "count       614.000000         614.000000  592.000000         600.00000   \n",
              "mean       5403.459283        1621.245798  146.412162         342.00000   \n",
              "std        6109.041673        2926.248369   85.587325          65.12041   \n",
              "min         150.000000           0.000000    9.000000          12.00000   \n",
              "25%        2877.500000           0.000000  100.000000         360.00000   \n",
              "50%        3812.500000        1188.500000  128.000000         360.00000   \n",
              "75%        5795.000000        2297.250000  168.000000         360.00000   \n",
              "max       81000.000000       41667.000000  700.000000         480.00000   \n",
              "\n",
              "       Credit_History  \n",
              "count      564.000000  \n",
              "mean         0.842199  \n",
              "std          0.364878  \n",
              "min          0.000000  \n",
              "25%          1.000000  \n",
              "50%          1.000000  \n",
              "75%          1.000000  \n",
              "max          1.000000  "
            ]
          },
          "execution_count": 12,
          "metadata": {},
          "output_type": "execute_result"
        }
      ],
      "source": [
        "data.describe()"
      ]
    },
    {
      "cell_type": "code",
      "execution_count": 13,
      "metadata": {
        "colab": {
          "base_uri": "https://localhost:8080/",
          "height": 469
        },
        "id": "3Aay9qOBHXNR",
        "outputId": "d5d17cf6-150d-45f3-91f4-24478d113f2e"
      },
      "outputs": [
        {
          "name": "stdout",
          "output_type": "stream",
          "text": [
            "Numerical Variables\n"
          ]
        },
        {
          "data": {
            "text/html": [
              "<div>\n",
              "<style scoped>\n",
              "    .dataframe tbody tr th:only-of-type {\n",
              "        vertical-align: middle;\n",
              "    }\n",
              "\n",
              "    .dataframe tbody tr th {\n",
              "        vertical-align: top;\n",
              "    }\n",
              "\n",
              "    .dataframe thead th {\n",
              "        text-align: right;\n",
              "    }\n",
              "</style>\n",
              "<table border=\"1\" class=\"dataframe\">\n",
              "  <thead>\n",
              "    <tr style=\"text-align: right;\">\n",
              "      <th></th>\n",
              "      <th>ApplicantIncome</th>\n",
              "      <th>CoapplicantIncome</th>\n",
              "      <th>LoanAmount</th>\n",
              "      <th>Loan_Amount_Term</th>\n",
              "      <th>Credit_History</th>\n",
              "    </tr>\n",
              "  </thead>\n",
              "  <tbody>\n",
              "    <tr>\n",
              "      <th>0</th>\n",
              "      <td>5849</td>\n",
              "      <td>0.0</td>\n",
              "      <td>NaN</td>\n",
              "      <td>360.0</td>\n",
              "      <td>1.0</td>\n",
              "    </tr>\n",
              "    <tr>\n",
              "      <th>1</th>\n",
              "      <td>4583</td>\n",
              "      <td>1508.0</td>\n",
              "      <td>128.0</td>\n",
              "      <td>360.0</td>\n",
              "      <td>1.0</td>\n",
              "    </tr>\n",
              "    <tr>\n",
              "      <th>2</th>\n",
              "      <td>3000</td>\n",
              "      <td>0.0</td>\n",
              "      <td>66.0</td>\n",
              "      <td>360.0</td>\n",
              "      <td>1.0</td>\n",
              "    </tr>\n",
              "    <tr>\n",
              "      <th>3</th>\n",
              "      <td>2583</td>\n",
              "      <td>2358.0</td>\n",
              "      <td>120.0</td>\n",
              "      <td>360.0</td>\n",
              "      <td>1.0</td>\n",
              "    </tr>\n",
              "    <tr>\n",
              "      <th>4</th>\n",
              "      <td>6000</td>\n",
              "      <td>0.0</td>\n",
              "      <td>141.0</td>\n",
              "      <td>360.0</td>\n",
              "      <td>1.0</td>\n",
              "    </tr>\n",
              "  </tbody>\n",
              "</table>\n",
              "</div>"
            ],
            "text/plain": [
              "   ApplicantIncome  CoapplicantIncome  LoanAmount  Loan_Amount_Term  \\\n",
              "0             5849                0.0         NaN             360.0   \n",
              "1             4583             1508.0       128.0             360.0   \n",
              "2             3000                0.0        66.0             360.0   \n",
              "3             2583             2358.0       120.0             360.0   \n",
              "4             6000                0.0       141.0             360.0   \n",
              "\n",
              "   Credit_History  \n",
              "0             1.0  \n",
              "1             1.0  \n",
              "2             1.0  \n",
              "3             1.0  \n",
              "4             1.0  "
            ]
          },
          "metadata": {},
          "output_type": "display_data"
        },
        {
          "name": "stdout",
          "output_type": "stream",
          "text": [
            "\n",
            "\n",
            "Categorical Variables\n"
          ]
        },
        {
          "data": {
            "text/html": [
              "<div>\n",
              "<style scoped>\n",
              "    .dataframe tbody tr th:only-of-type {\n",
              "        vertical-align: middle;\n",
              "    }\n",
              "\n",
              "    .dataframe tbody tr th {\n",
              "        vertical-align: top;\n",
              "    }\n",
              "\n",
              "    .dataframe thead th {\n",
              "        text-align: right;\n",
              "    }\n",
              "</style>\n",
              "<table border=\"1\" class=\"dataframe\">\n",
              "  <thead>\n",
              "    <tr style=\"text-align: right;\">\n",
              "      <th></th>\n",
              "      <th>Loan_ID</th>\n",
              "      <th>Gender</th>\n",
              "      <th>Married</th>\n",
              "      <th>Dependents</th>\n",
              "      <th>Education</th>\n",
              "      <th>Self_Employed</th>\n",
              "      <th>Property_Area</th>\n",
              "      <th>Loan_Status</th>\n",
              "    </tr>\n",
              "  </thead>\n",
              "  <tbody>\n",
              "    <tr>\n",
              "      <th>0</th>\n",
              "      <td>LP001002</td>\n",
              "      <td>Male</td>\n",
              "      <td>No</td>\n",
              "      <td>0</td>\n",
              "      <td>Graduate</td>\n",
              "      <td>No</td>\n",
              "      <td>Urban</td>\n",
              "      <td>Y</td>\n",
              "    </tr>\n",
              "    <tr>\n",
              "      <th>1</th>\n",
              "      <td>LP001003</td>\n",
              "      <td>Male</td>\n",
              "      <td>Yes</td>\n",
              "      <td>1</td>\n",
              "      <td>Graduate</td>\n",
              "      <td>No</td>\n",
              "      <td>Rural</td>\n",
              "      <td>N</td>\n",
              "    </tr>\n",
              "    <tr>\n",
              "      <th>2</th>\n",
              "      <td>LP001005</td>\n",
              "      <td>Male</td>\n",
              "      <td>Yes</td>\n",
              "      <td>0</td>\n",
              "      <td>Graduate</td>\n",
              "      <td>Yes</td>\n",
              "      <td>Urban</td>\n",
              "      <td>Y</td>\n",
              "    </tr>\n",
              "    <tr>\n",
              "      <th>3</th>\n",
              "      <td>LP001006</td>\n",
              "      <td>Male</td>\n",
              "      <td>Yes</td>\n",
              "      <td>0</td>\n",
              "      <td>Not Graduate</td>\n",
              "      <td>No</td>\n",
              "      <td>Urban</td>\n",
              "      <td>Y</td>\n",
              "    </tr>\n",
              "    <tr>\n",
              "      <th>4</th>\n",
              "      <td>LP001008</td>\n",
              "      <td>Male</td>\n",
              "      <td>No</td>\n",
              "      <td>0</td>\n",
              "      <td>Graduate</td>\n",
              "      <td>No</td>\n",
              "      <td>Urban</td>\n",
              "      <td>Y</td>\n",
              "    </tr>\n",
              "  </tbody>\n",
              "</table>\n",
              "</div>"
            ],
            "text/plain": [
              "    Loan_ID Gender Married Dependents     Education Self_Employed  \\\n",
              "0  LP001002   Male      No          0      Graduate            No   \n",
              "1  LP001003   Male     Yes          1      Graduate            No   \n",
              "2  LP001005   Male     Yes          0      Graduate           Yes   \n",
              "3  LP001006   Male     Yes          0  Not Graduate            No   \n",
              "4  LP001008   Male      No          0      Graduate            No   \n",
              "\n",
              "  Property_Area Loan_Status  \n",
              "0         Urban           Y  \n",
              "1         Rural           N  \n",
              "2         Urban           Y  \n",
              "3         Urban           Y  \n",
              "4         Urban           Y  "
            ]
          },
          "metadata": {},
          "output_type": "display_data"
        }
      ],
      "source": [
        "# Splitting data into categorical and numerical\n",
        "num = data.select_dtypes(include = 'number')\n",
        "cat = data.select_dtypes(exclude = 'number')\n",
        "\n",
        "print(f'Numerical Variables')\n",
        "display(num.head())\n",
        "print(f'\\n\\nCategorical Variables')\n",
        "display(cat.head())"
      ]
    },
    {
      "cell_type": "code",
      "execution_count": 14,
      "metadata": {
        "colab": {
          "base_uri": "https://localhost:8080/"
        },
        "id": "ozgrmk3PHeEB",
        "outputId": "5b8882d5-427f-4ccb-b5f5-21af1f868e57"
      },
      "outputs": [
        {
          "data": {
            "text/plain": [
              "dtype('float64')"
            ]
          },
          "execution_count": 14,
          "metadata": {},
          "output_type": "execute_result"
        }
      ],
      "source": [
        "# data['Dependents'].sample(200).values\n",
        "data['Dependents'] = data['Dependents'].str.replace('+', '')\n",
        "data['Dependents'] = data['Dependents'].astype(float)\n",
        "data['Dependents'].dtypes"
      ]
    },
    {
      "cell_type": "code",
      "execution_count": 15,
      "metadata": {
        "colab": {
          "base_uri": "https://localhost:8080/"
        },
        "id": "LKmi-eCHHk86",
        "outputId": "b9a8859b-e35b-4671-b437-0ced5428482e"
      },
      "outputs": [
        {
          "data": {
            "text/plain": [
              "Loan_ID       0\n",
              "Gender        0\n",
              "Married       0\n",
              "Dependents    0\n",
              "Education     0\n",
              "dtype: int64"
            ]
          },
          "execution_count": 15,
          "metadata": {},
          "output_type": "execute_result"
        }
      ],
      "source": [
        "# Cleaning data\n",
        "for i in num.columns:\n",
        "    if i in data.columns:\n",
        "        data[i].fillna(data[i].median(), inplace = True)\n",
        "for i in cat.columns:\n",
        "    if i in data.columns:\n",
        "        data[i].fillna(data[i].mode()[0], inplace = True)\n",
        "\n",
        "data.isnull().sum().sort_values(ascending = False).head()"
      ]
    },
    {
      "cell_type": "markdown",
      "metadata": {
        "id": "cTpW8qP8HxuQ"
      },
      "source": [
        "<b><h3>Data Preprocessing And Feature Engineering"
      ]
    },
    {
      "cell_type": "code",
      "execution_count": 16,
      "metadata": {
        "colab": {
          "base_uri": "https://localhost:8080/"
        },
        "id": "nJGQPU_eH4GK",
        "outputId": "cc2726bf-2fa6-4333-d0b2-896ede328456"
      },
      "outputs": [
        {
          "data": {
            "text/plain": [
              "array(['Y', 'N'], dtype=object)"
            ]
          },
          "execution_count": 16,
          "metadata": {},
          "output_type": "execute_result"
        }
      ],
      "source": [
        "# Ensure Data Consistency\n",
        "data['Loan_Status'].unique()"
      ]
    },
    {
      "cell_type": "code",
      "execution_count": 17,
      "metadata": {
        "id": "agGrqK0SH92O"
      },
      "outputs": [],
      "source": [
        "# convert all text columns to numbers\n",
        "# scale the data so they have lesser range of values\n",
        "\n",
        "from sklearn.preprocessing import StandardScaler, LabelEncoder\n",
        "scaler = StandardScaler()\n",
        "encoder = LabelEncoder()"
      ]
    },
    {
      "cell_type": "code",
      "execution_count": 18,
      "metadata": {
        "id": "X3o_7o0FIEYw"
      },
      "outputs": [],
      "source": [
        "# copy your data\n",
        "new_data = data.copy()\n",
        "new_data.drop('Loan_ID', axis = 1, inplace = True)"
      ]
    },
    {
      "cell_type": "code",
      "execution_count": 19,
      "metadata": {
        "id": "IGsgDeHbIPF1"
      },
      "outputs": [],
      "source": [
        "# Scale the numerical data set\n",
        "for i in num:\n",
        "    if i in new_data.columns:\n",
        "        new_data[i] = scaler.fit_transform(new_data[[i]])"
      ]
    },
    {
      "cell_type": "code",
      "execution_count": 20,
      "metadata": {
        "colab": {
          "base_uri": "https://localhost:8080/",
          "height": 226
        },
        "id": "E--XJupJIVmQ",
        "outputId": "b283c35b-066b-4367-cd9b-0016dd82e011"
      },
      "outputs": [
        {
          "data": {
            "text/html": [
              "<div>\n",
              "<style scoped>\n",
              "    .dataframe tbody tr th:only-of-type {\n",
              "        vertical-align: middle;\n",
              "    }\n",
              "\n",
              "    .dataframe tbody tr th {\n",
              "        vertical-align: top;\n",
              "    }\n",
              "\n",
              "    .dataframe thead th {\n",
              "        text-align: right;\n",
              "    }\n",
              "</style>\n",
              "<table border=\"1\" class=\"dataframe\">\n",
              "  <thead>\n",
              "    <tr style=\"text-align: right;\">\n",
              "      <th></th>\n",
              "      <th>Gender</th>\n",
              "      <th>Married</th>\n",
              "      <th>Dependents</th>\n",
              "      <th>Education</th>\n",
              "      <th>Self_Employed</th>\n",
              "      <th>ApplicantIncome</th>\n",
              "      <th>CoapplicantIncome</th>\n",
              "      <th>LoanAmount</th>\n",
              "      <th>Loan_Amount_Term</th>\n",
              "      <th>Credit_History</th>\n",
              "      <th>Property_Area</th>\n",
              "      <th>Loan_Status</th>\n",
              "    </tr>\n",
              "  </thead>\n",
              "  <tbody>\n",
              "    <tr>\n",
              "      <th>0</th>\n",
              "      <td>1</td>\n",
              "      <td>0</td>\n",
              "      <td>0</td>\n",
              "      <td>0</td>\n",
              "      <td>0</td>\n",
              "      <td>0.072991</td>\n",
              "      <td>-0.554487</td>\n",
              "      <td>-0.211241</td>\n",
              "      <td>0.273231</td>\n",
              "      <td>0.411733</td>\n",
              "      <td>2</td>\n",
              "      <td>1</td>\n",
              "    </tr>\n",
              "    <tr>\n",
              "      <th>1</th>\n",
              "      <td>1</td>\n",
              "      <td>1</td>\n",
              "      <td>1</td>\n",
              "      <td>0</td>\n",
              "      <td>0</td>\n",
              "      <td>-0.134412</td>\n",
              "      <td>-0.038732</td>\n",
              "      <td>-0.211241</td>\n",
              "      <td>0.273231</td>\n",
              "      <td>0.411733</td>\n",
              "      <td>0</td>\n",
              "      <td>0</td>\n",
              "    </tr>\n",
              "    <tr>\n",
              "      <th>2</th>\n",
              "      <td>1</td>\n",
              "      <td>1</td>\n",
              "      <td>0</td>\n",
              "      <td>0</td>\n",
              "      <td>1</td>\n",
              "      <td>-0.393747</td>\n",
              "      <td>-0.554487</td>\n",
              "      <td>-0.948996</td>\n",
              "      <td>0.273231</td>\n",
              "      <td>0.411733</td>\n",
              "      <td>2</td>\n",
              "      <td>1</td>\n",
              "    </tr>\n",
              "    <tr>\n",
              "      <th>3</th>\n",
              "      <td>1</td>\n",
              "      <td>1</td>\n",
              "      <td>0</td>\n",
              "      <td>1</td>\n",
              "      <td>0</td>\n",
              "      <td>-0.462062</td>\n",
              "      <td>0.251980</td>\n",
              "      <td>-0.306435</td>\n",
              "      <td>0.273231</td>\n",
              "      <td>0.411733</td>\n",
              "      <td>2</td>\n",
              "      <td>1</td>\n",
              "    </tr>\n",
              "    <tr>\n",
              "      <th>4</th>\n",
              "      <td>1</td>\n",
              "      <td>0</td>\n",
              "      <td>0</td>\n",
              "      <td>0</td>\n",
              "      <td>0</td>\n",
              "      <td>0.097728</td>\n",
              "      <td>-0.554487</td>\n",
              "      <td>-0.056551</td>\n",
              "      <td>0.273231</td>\n",
              "      <td>0.411733</td>\n",
              "      <td>2</td>\n",
              "      <td>1</td>\n",
              "    </tr>\n",
              "  </tbody>\n",
              "</table>\n",
              "</div>"
            ],
            "text/plain": [
              "   Gender  Married  Dependents  Education  Self_Employed  ApplicantIncome  \\\n",
              "0       1        0           0          0              0         0.072991   \n",
              "1       1        1           1          0              0        -0.134412   \n",
              "2       1        1           0          0              1        -0.393747   \n",
              "3       1        1           0          1              0        -0.462062   \n",
              "4       1        0           0          0              0         0.097728   \n",
              "\n",
              "   CoapplicantIncome  LoanAmount  Loan_Amount_Term  Credit_History  \\\n",
              "0          -0.554487   -0.211241          0.273231        0.411733   \n",
              "1          -0.038732   -0.211241          0.273231        0.411733   \n",
              "2          -0.554487   -0.948996          0.273231        0.411733   \n",
              "3           0.251980   -0.306435          0.273231        0.411733   \n",
              "4          -0.554487   -0.056551          0.273231        0.411733   \n",
              "\n",
              "   Property_Area  Loan_Status  \n",
              "0              2            1  \n",
              "1              0            0  \n",
              "2              2            1  \n",
              "3              2            1  \n",
              "4              2            1  "
            ]
          },
          "execution_count": 20,
          "metadata": {},
          "output_type": "execute_result"
        }
      ],
      "source": [
        "\n",
        "# Encode the categorical data set\n",
        "for i in cat:\n",
        "    if i in new_data.columns:\n",
        "        new_data[i] = encoder.fit_transform(new_data[i])\n",
        "\n",
        "new_data.head()"
      ]
    },
    {
      "cell_type": "markdown",
      "metadata": {
        "id": "Sor_EJ2ZIe2x"
      },
      "source": [
        "<b><h3>Feature Selection"
      ]
    },
    {
      "cell_type": "code",
      "execution_count": 21,
      "metadata": {
        "colab": {
          "base_uri": "https://localhost:8080/",
          "height": 490
        },
        "id": "pt-KzwwTImyq",
        "outputId": "f3142be0-8ea7-4a3e-de33-be800cb3269a"
      },
      "outputs": [
        {
          "data": {
            "text/plain": [
              "<Axes: title={'center': 'Feature importance'}, xlabel='F score', ylabel='Features'>"
            ]
          },
          "execution_count": 21,
          "metadata": {},
          "output_type": "execute_result"
        },
        {
          "data": {
            "image/png": "[encoded data removed]",
            "text/plain": [
              "<Figure size 640x480 with 1 Axes>"
            ]
          },
          "metadata": {},
          "output_type": "display_data"
        }
      ],
      "source": [
        "# - Using XGBOOST to find feature importance\n",
        "x = new_data.drop('Loan_Status', axis = 1)\n",
        "y = new_data['Loan_Status']\n",
        "\n",
        "import xgboost as xgb\n",
        "model = xgb.XGBClassifier()\n",
        "model.fit(x, y)\n",
        "\n",
        "# Print feature importance scores\n",
        "xgb.plot_importance(model)"
      ]
    },
    {
      "cell_type": "code",
      "execution_count": 22,
      "metadata": {
        "colab": {
          "base_uri": "https://localhost:8080/",
          "height": 206
        },
        "id": "b2C1IVTZIuUE",
        "outputId": "d63f5e2e-7e9a-4b1e-db23-d04f5b9d8ede"
      },
      "outputs": [
        {
          "data": {
            "text/html": [
              "<div>\n",
              "<style scoped>\n",
              "    .dataframe tbody tr th:only-of-type {\n",
              "        vertical-align: middle;\n",
              "    }\n",
              "\n",
              "    .dataframe tbody tr th {\n",
              "        vertical-align: top;\n",
              "    }\n",
              "\n",
              "    .dataframe thead th {\n",
              "        text-align: right;\n",
              "    }\n",
              "</style>\n",
              "<table border=\"1\" class=\"dataframe\">\n",
              "  <thead>\n",
              "    <tr style=\"text-align: right;\">\n",
              "      <th></th>\n",
              "      <th>ApplicantIncome</th>\n",
              "      <th>LoanAmount</th>\n",
              "      <th>CoapplicantIncome</th>\n",
              "      <th>Dependents</th>\n",
              "      <th>Property_Area</th>\n",
              "      <th>Loan_Amount_Term</th>\n",
              "      <th>Credit_History</th>\n",
              "      <th>Loan_Status</th>\n",
              "    </tr>\n",
              "  </thead>\n",
              "  <tbody>\n",
              "    <tr>\n",
              "      <th>0</th>\n",
              "      <td>0.072991</td>\n",
              "      <td>-0.211241</td>\n",
              "      <td>-0.554487</td>\n",
              "      <td>0</td>\n",
              "      <td>2</td>\n",
              "      <td>0.273231</td>\n",
              "      <td>0.411733</td>\n",
              "      <td>1</td>\n",
              "    </tr>\n",
              "    <tr>\n",
              "      <th>1</th>\n",
              "      <td>-0.134412</td>\n",
              "      <td>-0.211241</td>\n",
              "      <td>-0.038732</td>\n",
              "      <td>1</td>\n",
              "      <td>0</td>\n",
              "      <td>0.273231</td>\n",
              "      <td>0.411733</td>\n",
              "      <td>0</td>\n",
              "    </tr>\n",
              "    <tr>\n",
              "      <th>2</th>\n",
              "      <td>-0.393747</td>\n",
              "      <td>-0.948996</td>\n",
              "      <td>-0.554487</td>\n",
              "      <td>0</td>\n",
              "      <td>2</td>\n",
              "      <td>0.273231</td>\n",
              "      <td>0.411733</td>\n",
              "      <td>1</td>\n",
              "    </tr>\n",
              "    <tr>\n",
              "      <th>3</th>\n",
              "      <td>-0.462062</td>\n",
              "      <td>-0.306435</td>\n",
              "      <td>0.251980</td>\n",
              "      <td>0</td>\n",
              "      <td>2</td>\n",
              "      <td>0.273231</td>\n",
              "      <td>0.411733</td>\n",
              "      <td>1</td>\n",
              "    </tr>\n",
              "    <tr>\n",
              "      <th>4</th>\n",
              "      <td>0.097728</td>\n",
              "      <td>-0.056551</td>\n",
              "      <td>-0.554487</td>\n",
              "      <td>0</td>\n",
              "      <td>2</td>\n",
              "      <td>0.273231</td>\n",
              "      <td>0.411733</td>\n",
              "      <td>1</td>\n",
              "    </tr>\n",
              "  </tbody>\n",
              "</table>\n",
              "</div>"
            ],
            "text/plain": [
              "   ApplicantIncome  LoanAmount  CoapplicantIncome  Dependents  Property_Area  \\\n",
              "0         0.072991   -0.211241          -0.554487           0              2   \n",
              "1        -0.134412   -0.211241          -0.038732           1              0   \n",
              "2        -0.393747   -0.948996          -0.554487           0              2   \n",
              "3        -0.462062   -0.306435           0.251980           0              2   \n",
              "4         0.097728   -0.056551          -0.554487           0              2   \n",
              "\n",
              "   Loan_Amount_Term  Credit_History  Loan_Status  \n",
              "0          0.273231        0.411733            1  \n",
              "1          0.273231        0.411733            0  \n",
              "2          0.273231        0.411733            1  \n",
              "3          0.273231        0.411733            1  \n",
              "4          0.273231        0.411733            1  "
            ]
          },
          "execution_count": 22,
          "metadata": {},
          "output_type": "execute_result"
        }
      ],
      "source": [
        "sel_columns = ['ApplicantIncome', 'LoanAmount', 'CoapplicantIncome', 'Dependents',\n",
        "               'Property_Area', 'Loan_Amount_Term', 'Credit_History', 'Loan_Status']\n",
        "\n",
        "new_data = new_data[sel_columns]\n",
        "new_data.head()"
      ]
    },
    {
      "cell_type": "code",
      "execution_count": 23,
      "metadata": {
        "colab": {
          "base_uri": "https://localhost:8080/",
          "height": 206
        },
        "id": "AH7c3kRqLH1R",
        "outputId": "18cd92d7-387c-478c-dc58-d4dee9f24f05"
      },
      "outputs": [
        {
          "data": {
            "text/html": [
              "<div>\n",
              "<style scoped>\n",
              "    .dataframe tbody tr th:only-of-type {\n",
              "        vertical-align: middle;\n",
              "    }\n",
              "\n",
              "    .dataframe tbody tr th {\n",
              "        vertical-align: top;\n",
              "    }\n",
              "\n",
              "    .dataframe thead th {\n",
              "        text-align: right;\n",
              "    }\n",
              "</style>\n",
              "<table border=\"1\" class=\"dataframe\">\n",
              "  <thead>\n",
              "    <tr style=\"text-align: right;\">\n",
              "      <th></th>\n",
              "      <th>Dependents</th>\n",
              "      <th>ApplicantIncome</th>\n",
              "      <th>CoapplicantIncome</th>\n",
              "      <th>LoanAmount</th>\n",
              "      <th>Loan_Amount_Term</th>\n",
              "      <th>Credit_History</th>\n",
              "    </tr>\n",
              "  </thead>\n",
              "  <tbody>\n",
              "    <tr>\n",
              "      <th>0</th>\n",
              "      <td>0.0</td>\n",
              "      <td>5849</td>\n",
              "      <td>0.0</td>\n",
              "      <td>128.0</td>\n",
              "      <td>360.0</td>\n",
              "      <td>1.0</td>\n",
              "    </tr>\n",
              "    <tr>\n",
              "      <th>1</th>\n",
              "      <td>1.0</td>\n",
              "      <td>4583</td>\n",
              "      <td>1508.0</td>\n",
              "      <td>128.0</td>\n",
              "      <td>360.0</td>\n",
              "      <td>1.0</td>\n",
              "    </tr>\n",
              "    <tr>\n",
              "      <th>2</th>\n",
              "      <td>0.0</td>\n",
              "      <td>3000</td>\n",
              "      <td>0.0</td>\n",
              "      <td>66.0</td>\n",
              "      <td>360.0</td>\n",
              "      <td>1.0</td>\n",
              "    </tr>\n",
              "    <tr>\n",
              "      <th>3</th>\n",
              "      <td>0.0</td>\n",
              "      <td>2583</td>\n",
              "      <td>2358.0</td>\n",
              "      <td>120.0</td>\n",
              "      <td>360.0</td>\n",
              "      <td>1.0</td>\n",
              "    </tr>\n",
              "    <tr>\n",
              "      <th>4</th>\n",
              "      <td>0.0</td>\n",
              "      <td>6000</td>\n",
              "      <td>0.0</td>\n",
              "      <td>141.0</td>\n",
              "      <td>360.0</td>\n",
              "      <td>1.0</td>\n",
              "    </tr>\n",
              "  </tbody>\n",
              "</table>\n",
              "</div>"
            ],
            "text/plain": [
              "   Dependents  ApplicantIncome  CoapplicantIncome  LoanAmount  \\\n",
              "0         0.0             5849                0.0       128.0   \n",
              "1         1.0             4583             1508.0       128.0   \n",
              "2         0.0             3000                0.0        66.0   \n",
              "3         0.0             2583             2358.0       120.0   \n",
              "4         0.0             6000                0.0       141.0   \n",
              "\n",
              "   Loan_Amount_Term  Credit_History  \n",
              "0             360.0             1.0  \n",
              "1             360.0             1.0  \n",
              "2             360.0             1.0  \n",
              "3             360.0             1.0  \n",
              "4             360.0             1.0  "
            ]
          },
          "execution_count": 23,
          "metadata": {},
          "output_type": "execute_result"
        }
      ],
      "source": [
        "# Show the distribution of all numerical variables in the dataset\n",
        "\n",
        "num_data = data.select_dtypes(include = 'number')\n",
        "\n",
        "def plotter(dataframe, a, b , c):\n",
        "    plt.figure(figsize = (15, 4))\n",
        "    sns.set(style = 'darkgrid')\n",
        "    plt.subplot(1, 3, 1)\n",
        "    sns.distplot(data[a])\n",
        "\n",
        "    plt.subplot(1, 3, 2)\n",
        "    sns.boxplot(x = data[b])\n",
        "\n",
        "    plt.subplot(1, 3, 3)\n",
        "    sns.boxplot(x = data[c])\n",
        "\n",
        "\n",
        "\n",
        "num_data.head()"
      ]
    },
    {
      "cell_type": "code",
      "execution_count": 24,
      "metadata": {
        "colab": {
          "base_uri": "https://localhost:8080/",
          "height": 681
        },
        "id": "6bJ-rxWxOgNy",
        "outputId": "c5a6ad2d-9512-49e4-eb91-920aeffa75bd"
      },
      "outputs": [
        {
          "data": {
            "image/png": "[encoded data removed]",
            "text/plain": [
              "<Figure size 1500x400 with 3 Axes>"
            ]
          },
          "metadata": {},
          "output_type": "display_data"
        },
        {
          "data": {
            "image/png": "[encoded data removed]",
            "text/plain": [
              "<Figure size 1500x400 with 3 Axes>"
            ]
          },
          "metadata": {},
          "output_type": "display_data"
        }
      ],
      "source": [
        "plotter(num_data, 'Dependents', 'ApplicantIncome', 'CoapplicantIncome')\n",
        "plotter(num_data, 'LoanAmount', 'Loan_Amount_Term', 'Credit_History')"
      ]
    },
    {
      "cell_type": "code",
      "execution_count": 25,
      "metadata": {
        "colab": {
          "base_uri": "https://localhost:8080/",
          "height": 542
        },
        "id": "g0-PlYjfQPuL",
        "outputId": "cb52f23f-7807-472a-bf81-d8c2945790f7"
      },
      "outputs": [
        {
          "data": {
            "application/vnd.plotly.v1+json": {
              "config": {
                "plotlyServerURL": "https://plot.ly"
              },
              "data": [
                {
                  "hovertemplate": "LoanAmount=%{marker.color}<br>ApplicantIncome=%{y}<extra></extra>",
                  "legendgroup": "",
                  "marker": {
                    "color": [
                      128,
                      128,
                      66,
                      120,
                      141,
                      267,
                      95,
                      158,
                      168,
                      349,
                      70,
                      109,
                      200,
                      114,
                      17,
                      125,
                      100,
                      76,
                      133,
                      115,
                      104,
                      315,
                      116,
                      112,
                      151,
                      191,
                      122,
                      110,
                      35,
                      120,
                      201,
                      74,
                      106,
                      114,
                      320,
                      128,
                      100,
                      144,
                      184,
                      110,
                      80,
                      47,
                      75,
                      134,
                      96,
                      88,
                      44,
                      144,
                      120,
                      144,
                      100,
                      120,
                      112,
                      134,
                      286,
                      97,
                      96,
                      135,
                      180,
                      144,
                      120,
                      99,
                      165,
                      128,
                      116,
                      258,
                      126,
                      312,
                      125,
                      136,
                      172,
                      97,
                      81,
                      95,
                      187,
                      113,
                      176,
                      110,
                      180,
                      130,
                      111,
                      128,
                      167,
                      265,
                      50,
                      136,
                      99,
                      104,
                      210,
                      175,
                      131,
                      188,
                      81,
                      122,
                      25,
                      128,
                      137,
                      50,
                      115,
                      131,
                      133,
                      151,
                      128,
                      128,
                      160,
                      100,
                      225,
                      120,
                      216,
                      94,
                      136,
                      139,
                      152,
                      128,
                      118,
                      185,
                      154,
                      85,
                      175,
                      259,
                      180,
                      44,
                      137,
                      81,
                      194,
                      93,
                      370,
                      128,
                      160,
                      182,
                      650,
                      74,
                      70,
                      25,
                      102,
                      290,
                      84,
                      88,
                      242,
                      129,
                      185,
                      168,
                      175,
                      122,
                      187,
                      100,
                      70,
                      30,
                      225,
                      125,
                      118,
                      152,
                      244,
                      113,
                      50,
                      600,
                      160,
                      187,
                      120,
                      255,
                      98,
                      275,
                      121,
                      158,
                      75,
                      182,
                      112,
                      129,
                      63,
                      200,
                      95,
                      700,
                      81,
                      187,
                      87,
                      116,
                      101,
                      495,
                      116,
                      102,
                      180,
                      67,
                      73,
                      260,
                      108,
                      120,
                      66,
                      58,
                      168,
                      188,
                      48,
                      164,
                      160,
                      76,
                      120,
                      170,
                      187,
                      120,
                      113,
                      83,
                      90,
                      166,
                      128,
                      135,
                      124,
                      120,
                      80,
                      55,
                      59,
                      127,
                      214,
                      128,
                      240,
                      130,
                      137,
                      100,
                      135,
                      131,
                      72,
                      127,
                      60,
                      116,
                      144,
                      175,
                      128,
                      170,
                      138,
                      210,
                      158,
                      200,
                      104,
                      42,
                      120,
                      280,
                      140,
                      170,
                      255,
                      122,
                      112,
                      96,
                      120,
                      140,
                      155,
                      108,
                      123,
                      120,
                      112,
                      137,
                      123,
                      90,
                      201,
                      138,
                      104,
                      279,
                      192,
                      255,
                      115,
                      94,
                      304,
                      128,
                      330,
                      134,
                      155,
                      120,
                      128,
                      151,
                      150,
                      160,
                      135,
                      90,
                      30,
                      136,
                      126,
                      150,
                      90,
                      115,
                      207,
                      80,
                      436,
                      124,
                      158,
                      112,
                      78,
                      54,
                      128,
                      89,
                      99,
                      120,
                      115,
                      187,
                      139,
                      127,
                      134,
                      143,
                      172,
                      110,
                      200,
                      135,
                      151,
                      113,
                      93,
                      105,
                      132,
                      96,
                      140,
                      128,
                      135,
                      104,
                      480,
                      185,
                      84,
                      111,
                      56,
                      144,
                      159,
                      111,
                      120,
                      88,
                      112,
                      155,
                      115,
                      124,
                      128,
                      132,
                      300,
                      376,
                      130,
                      184,
                      110,
                      67,
                      117,
                      98,
                      71,
                      490,
                      182,
                      70,
                      160,
                      176,
                      128,
                      71,
                      173,
                      46,
                      158,
                      74,
                      125,
                      160,
                      152,
                      126,
                      259,
                      187,
                      228,
                      308,
                      95,
                      105,
                      130,
                      116,
                      165,
                      67,
                      100,
                      200,
                      81,
                      236,
                      130,
                      95,
                      141,
                      133,
                      96,
                      124,
                      175,
                      570,
                      55,
                      155,
                      380,
                      111,
                      110,
                      120,
                      130,
                      130,
                      71,
                      130,
                      128,
                      296,
                      156,
                      128,
                      100,
                      113,
                      132,
                      128,
                      136,
                      125,
                      185,
                      275,
                      120,
                      113,
                      113,
                      135,
                      71,
                      95,
                      109,
                      103,
                      45,
                      65,
                      103,
                      53,
                      194,
                      115,
                      115,
                      66,
                      152,
                      360,
                      62,
                      160,
                      218,
                      110,
                      178,
                      60,
                      160,
                      239,
                      112,
                      138,
                      138,
                      80,
                      100,
                      110,
                      96,
                      121,
                      81,
                      133,
                      87,
                      60,
                      150,
                      105,
                      405,
                      143,
                      100,
                      128,
                      50,
                      128,
                      187,
                      138,
                      187,
                      180,
                      148,
                      152,
                      175,
                      130,
                      110,
                      55,
                      150,
                      190,
                      125,
                      60,
                      149,
                      90,
                      84,
                      96,
                      118,
                      173,
                      136,
                      160,
                      160,
                      128,
                      153,
                      132,
                      98,
                      140,
                      70,
                      110,
                      98,
                      110,
                      162,
                      113,
                      100,
                      93,
                      162,
                      150,
                      230,
                      132,
                      86,
                      128,
                      154,
                      113,
                      128,
                      234,
                      246,
                      131,
                      80,
                      500,
                      160,
                      75,
                      96,
                      186,
                      110,
                      225,
                      119,
                      105,
                      107,
                      111,
                      95,
                      209,
                      113,
                      100,
                      208,
                      138,
                      124,
                      243,
                      480,
                      96,
                      188,
                      40,
                      100,
                      250,
                      148,
                      70,
                      311,
                      150,
                      113,
                      123,
                      185,
                      95,
                      45,
                      55,
                      100,
                      480,
                      128,
                      400,
                      110,
                      161,
                      94,
                      130,
                      216,
                      100,
                      110,
                      196,
                      125,
                      126,
                      324,
                      107,
                      66,
                      157,
                      140,
                      99,
                      95,
                      128,
                      102,
                      155,
                      80,
                      145,
                      103,
                      110,
                      128,
                      128,
                      158,
                      181,
                      132,
                      26,
                      84,
                      260,
                      162,
                      182,
                      108,
                      600,
                      211,
                      132,
                      258,
                      120,
                      70,
                      123,
                      9,
                      104,
                      186,
                      165,
                      275,
                      187,
                      150,
                      108,
                      136,
                      110,
                      107,
                      161,
                      205,
                      90,
                      36,
                      61,
                      146,
                      172,
                      104,
                      70,
                      94,
                      106,
                      56,
                      205,
                      292,
                      142,
                      260,
                      110,
                      187,
                      88,
                      180,
                      192,
                      350,
                      155,
                      128,
                      172,
                      496,
                      128,
                      173,
                      157,
                      108,
                      71,
                      40,
                      253,
                      187,
                      133
                    ],
                    "coloraxis": "coloraxis",
                    "symbol": "circle"
                  },
                  "mode": "markers",
                  "name": "",
                  "orientation": "v",
                  "showlegend": false,
                  "type": "scatter",
                  "x": [
                    128,
                    128,
                    66,
                    120,
                    141,
                    267,
                    95,
                    158,
                    168,
                    349,
                    70,
                    109,
                    200,
                    114,
                    17,
                    125,
                    100,
                    76,
                    133,
                    115,
                    104,
                    315,
                    116,
                    112,
                    151,
                    191,
                    122,
                    110,
                    35,
                    120,
                    201,
                    74,
                    106,
                    114,
                    320,
                    128,
                    100,
                    144,
                    184,
                    110,
                    80,
                    47,
                    75,
                    134,
                    96,
                    88,
                    44,
                    144,
                    120,
                    144,
                    100,
                    120,
                    112,
                    134,
                    286,
                    97,
                    96,
                    135,
                    180,
                    144,
                    120,
                    99,
                    165,
                    128,
                    116,
                    258,
                    126,
                    312,
                    125,
                    136,
                    172,
                    97,
                    81,
                    95,
                    187,
                    113,
                    176,
                    110,
                    180,
                    130,
                    111,
                    128,
                    167,
                    265,
                    50,
                    136,
                    99,
                    104,
                    210,
                    175,
                    131,
                    188,
                    81,
                    122,
                    25,
                    128,
                    137,
                    50,
                    115,
                    131,
                    133,
                    151,
                    128,
                    128,
                    160,
                    100,
                    225,
                    120,
                    216,
                    94,
                    136,
                    139,
                    152,
                    128,
                    118,
                    185,
                    154,
                    85,
                    175,
                    259,
                    180,
                    44,
                    137,
                    81,
                    194,
                    93,
                    370,
                    128,
                    160,
                    182,
                    650,
                    74,
                    70,
                    25,
                    102,
                    290,
                    84,
                    88,
                    242,
                    129,
                    185,
                    168,
                    175,
                    122,
                    187,
                    100,
                    70,
                    30,
                    225,
                    125,
                    118,
                    152,
                    244,
                    113,
                    50,
                    600,
                    160,
                    187,
                    120,
                    255,
                    98,
                    275,
                    121,
                    158,
                    75,
                    182,
                    112,
                    129,
                    63,
                    200,
                    95,
                    700,
                    81,
                    187,
                    87,
                    116,
                    101,
                    495,
                    116,
                    102,
                    180,
                    67,
                    73,
                    260,
                    108,
                    120,
                    66,
                    58,
                    168,
                    188,
                    48,
                    164,
                    160,
                    76,
                    120,
                    170,
                    187,
                    120,
                    113,
                    83,
                    90,
                    166,
                    128,
                    135,
                    124,
                    120,
                    80,
                    55,
                    59,
                    127,
                    214,
                    128,
                    240,
                    130,
                    137,
                    100,
                    135,
                    131,
                    72,
                    127,
                    60,
                    116,
                    144,
                    175,
                    128,
                    170,
                    138,
                    210,
                    158,
                    200,
                    104,
                    42,
                    120,
                    280,
                    140,
                    170,
                    255,
                    122,
                    112,
                    96,
                    120,
                    140,
                    155,
                    108,
                    123,
                    120,
                    112,
                    137,
                    123,
                    90,
                    201,
                    138,
                    104,
                    279,
                    192,
                    255,
                    115,
                    94,
                    304,
                    128,
                    330,
                    134,
                    155,
                    120,
                    128,
                    151,
                    150,
                    160,
                    135,
                    90,
                    30,
                    136,
                    126,
                    150,
                    90,
                    115,
                    207,
                    80,
                    436,
                    124,
                    158,
                    112,
                    78,
                    54,
                    128,
                    89,
                    99,
                    120,
                    115,
                    187,
                    139,
                    127,
                    134,
                    143,
                    172,
                    110,
                    200,
                    135,
                    151,
                    113,
                    93,
                    105,
                    132,
                    96,
                    140,
                    128,
                    135,
                    104,
                    480,
                    185,
                    84,
                    111,
                    56,
                    144,
                    159,
                    111,
                    120,
                    88,
                    112,
                    155,
                    115,
                    124,
                    128,
                    132,
                    300,
                    376,
                    130,
                    184,
                    110,
                    67,
                    117,
                    98,
                    71,
                    490,
                    182,
                    70,
                    160,
                    176,
                    128,
                    71,
                    173,
                    46,
                    158,
                    74,
                    125,
                    160,
                    152,
                    126,
                    259,
                    187,
                    228,
                    308,
                    95,
                    105,
                    130,
                    116,
                    165,
                    67,
                    100,
                    200,
                    81,
                    236,
                    130,
                    95,
                    141,
                    133,
                    96,
                    124,
                    175,
                    570,
                    55,
                    155,
                    380,
                    111,
                    110,
                    120,
                    130,
                    130,
                    71,
                    130,
                    128,
                    296,
                    156,
                    128,
                    100,
                    113,
                    132,
                    128,
                    136,
                    125,
                    185,
                    275,
                    120,
                    113,
                    113,
                    135,
                    71,
                    95,
                    109,
                    103,
                    45,
                    65,
                    103,
                    53,
                    194,
                    115,
                    115,
                    66,
                    152,
                    360,
                    62,
                    160,
                    218,
                    110,
                    178,
                    60,
                    160,
                    239,
                    112,
                    138,
                    138,
                    80,
                    100,
                    110,
                    96,
                    121,
                    81,
                    133,
                    87,
                    60,
                    150,
                    105,
                    405,
                    143,
                    100,
                    128,
                    50,
                    128,
                    187,
                    138,
                    187,
                    180,
                    148,
                    152,
                    175,
                    130,
                    110,
                    55,
                    150,
                    190,
                    125,
                    60,
                    149,
                    90,
                    84,
                    96,
                    118,
                    173,
                    136,
                    160,
                    160,
                    128,
                    153,
                    132,
                    98,
                    140,
                    70,
                    110,
                    98,
                    110,
                    162,
                    113,
                    100,
                    93,
                    162,
                    150,
                    230,
                    132,
                    86,
                    128,
                    154,
                    113,
                    128,
                    234,
                    246,
                    131,
                    80,
                    500,
                    160,
                    75,
                    96,
                    186,
                    110,
                    225,
                    119,
                    105,
                    107,
                    111,
                    95,
                    209,
                    113,
                    100,
                    208,
                    138,
                    124,
                    243,
                    480,
                    96,
                    188,
                    40,
                    100,
                    250,
                    148,
                    70,
                    311,
                    150,
                    113,
                    123,
                    185,
                    95,
                    45,
                    55,
                    100,
                    480,
                    128,
                    400,
                    110,
                    161,
                    94,
                    130,
                    216,
                    100,
                    110,
                    196,
                    125,
                    126,
                    324,
                    107,
                    66,
                    157,
                    140,
                    99,
                    95,
                    128,
                    102,
                    155,
                    80,
                    145,
                    103,
                    110,
                    128,
                    128,
                    158,
                    181,
                    132,
                    26,
                    84,
                    260,
                    162,
                    182,
                    108,
                    600,
                    211,
                    132,
                    258,
                    120,
                    70,
                    123,
                    9,
                    104,
                    186,
                    165,
                    275,
                    187,
                    150,
                    108,
                    136,
                    110,
                    107,
                    161,
                    205,
                    90,
                    36,
                    61,
                    146,
                    172,
                    104,
                    70,
                    94,
                    106,
                    56,
                    205,
                    292,
                    142,
                    260,
                    110,
                    187,
                    88,
                    180,
                    192,
                    350,
                    155,
                    128,
                    172,
                    496,
                    128,
                    173,
                    157,
                    108,
                    71,
                    40,
                    253,
                    187,
                    133
                  ],
                  "xaxis": "x",
                  "y": [
                    5849,
                    4583,
                    3000,
                    2583,
                    6000,
                    5417,
                    2333,
                    3036,
                    4006,
                    12841,
                    3200,
                    2500,
                    3073,
                    1853,
                    1299,
                    4950,
                    3596,
                    3510,
                    4887,
                    2600,
                    7660,
                    5955,
                    2600,
                    3365,
                    3717,
                    9560,
                    2799,
                    4226,
                    1442,
                    3750,
                    4166,
                    3167,
                    4692,
                    3500,
                    12500,
                    2275,
                    1828,
                    3667,
                    4166,
                    3748,
                    3600,
                    1800,
                    2400,
                    3941,
                    4695,
                    3410,
                    5649,
                    5821,
                    2645,
                    4000,
                    1928,
                    3086,
                    4230,
                    4616,
                    11500,
                    2708,
                    2132,
                    3366,
                    8080,
                    3357,
                    2500,
                    3029,
                    2609,
                    4945,
                    4166,
                    5726,
                    3200,
                    10750,
                    7100,
                    4300,
                    3208,
                    1875,
                    3500,
                    4755,
                    5266,
                    3750,
                    3750,
                    1000,
                    3167,
                    3333,
                    3846,
                    2395,
                    1378,
                    6000,
                    3988,
                    2366,
                    3333,
                    2500,
                    8566,
                    5695,
                    2958,
                    6250,
                    3273,
                    4133,
                    3620,
                    6782,
                    2484,
                    1977,
                    4188,
                    1759,
                    4288,
                    4843,
                    13650,
                    4652,
                    3816,
                    3052,
                    11417,
                    7333,
                    3800,
                    2071,
                    5316,
                    2929,
                    3572,
                    7451,
                    5050,
                    14583,
                    3167,
                    2214,
                    5568,
                    10408,
                    5667,
                    4166,
                    2137,
                    2957,
                    4300,
                    3692,
                    23803,
                    3865,
                    10513,
                    6080,
                    20166,
                    2014,
                    2718,
                    3459,
                    4895,
                    4000,
                    4583,
                    3316,
                    14999,
                    4200,
                    5042,
                    5417,
                    6950,
                    2698,
                    11757,
                    2330,
                    14866,
                    1538,
                    10000,
                    4860,
                    6277,
                    2577,
                    9166,
                    2281,
                    3254,
                    39999,
                    6000,
                    9538,
                    2980,
                    4583,
                    1863,
                    7933,
                    3089,
                    4167,
                    9323,
                    3707,
                    4583,
                    2439,
                    2237,
                    8000,
                    1820,
                    51763,
                    3522,
                    5708,
                    4344,
                    3497,
                    2045,
                    5516,
                    3750,
                    2333,
                    6400,
                    1916,
                    4600,
                    33846,
                    3625,
                    39147,
                    2178,
                    2383,
                    674,
                    9328,
                    4885,
                    12000,
                    6033,
                    3858,
                    4191,
                    3125,
                    8333,
                    1907,
                    3416,
                    11000,
                    2600,
                    4923,
                    3992,
                    3500,
                    3917,
                    4408,
                    3244,
                    3975,
                    2479,
                    3418,
                    10000,
                    3430,
                    7787,
                    5703,
                    3173,
                    3850,
                    150,
                    3727,
                    5000,
                    4283,
                    2221,
                    4009,
                    2971,
                    7578,
                    6250,
                    3250,
                    4735,
                    6250,
                    4758,
                    6400,
                    2491,
                    3716,
                    3189,
                    8333,
                    3155,
                    5500,
                    5746,
                    3463,
                    3812,
                    3315,
                    5819,
                    2510,
                    2965,
                    6250,
                    3406,
                    6050,
                    9703,
                    6608,
                    2882,
                    1809,
                    1668,
                    3427,
                    2583,
                    2661,
                    16250,
                    3083,
                    6045,
                    5250,
                    14683,
                    4931,
                    6083,
                    2060,
                    3481,
                    7200,
                    5166,
                    4095,
                    4708,
                    4333,
                    3418,
                    2876,
                    3237,
                    11146,
                    2833,
                    2620,
                    3900,
                    2750,
                    3993,
                    3103,
                    14583,
                    4100,
                    4053,
                    3927,
                    2301,
                    1811,
                    20667,
                    3158,
                    2600,
                    3704,
                    4124,
                    9508,
                    3075,
                    4400,
                    3153,
                    5417,
                    2383,
                    4416,
                    6875,
                    4666,
                    5000,
                    2014,
                    1800,
                    2875,
                    5000,
                    1625,
                    4000,
                    2000,
                    3762,
                    2400,
                    20233,
                    7667,
                    2917,
                    2927,
                    2507,
                    5746,
                    2473,
                    3399,
                    3717,
                    2058,
                    3541,
                    10000,
                    2400,
                    4342,
                    3601,
                    3166,
                    15000,
                    8666,
                    4917,
                    5818,
                    4333,
                    2500,
                    4384,
                    2935,
                    2833,
                    63337,
                    9833,
                    5503,
                    5250,
                    2500,
                    1830,
                    4160,
                    2647,
                    2378,
                    4554,
                    3173,
                    2583,
                    2499,
                    3523,
                    3083,
                    6333,
                    2625,
                    9083,
                    8750,
                    2666,
                    5500,
                    2423,
                    3813,
                    8333,
                    3875,
                    3000,
                    5167,
                    4723,
                    5000,
                    4750,
                    3013,
                    6822,
                    6216,
                    2500,
                    5124,
                    6325,
                    19730,
                    15759,
                    5185,
                    9323,
                    3062,
                    2764,
                    4817,
                    8750,
                    4310,
                    3069,
                    5391,
                    3333,
                    5941,
                    6000,
                    7167,
                    4566,
                    3667,
                    2346,
                    3010,
                    2333,
                    5488,
                    9167,
                    9504,
                    2583,
                    1993,
                    3100,
                    3276,
                    3180,
                    3033,
                    3902,
                    1500,
                    2889,
                    2755,
                    2500,
                    1963,
                    7441,
                    4547,
                    2167,
                    2213,
                    8300,
                    81000,
                    3867,
                    6256,
                    6096,
                    2253,
                    2149,
                    2995,
                    2600,
                    1600,
                    1025,
                    3246,
                    5829,
                    2720,
                    1820,
                    7250,
                    14880,
                    2666,
                    4606,
                    5935,
                    2920,
                    2717,
                    8624,
                    6500,
                    12876,
                    2425,
                    3750,
                    10047,
                    1926,
                    2213,
                    10416,
                    7142,
                    3660,
                    7901,
                    4707,
                    37719,
                    7333,
                    3466,
                    4652,
                    3539,
                    3340,
                    2769,
                    2309,
                    1958,
                    3948,
                    2483,
                    7085,
                    3859,
                    4301,
                    3708,
                    4354,
                    8334,
                    2083,
                    7740,
                    3015,
                    5191,
                    4166,
                    6000,
                    2947,
                    16692,
                    210,
                    4333,
                    3450,
                    2653,
                    4691,
                    2500,
                    5532,
                    16525,
                    6700,
                    2873,
                    16667,
                    2947,
                    4350,
                    3095,
                    2083,
                    10833,
                    8333,
                    1958,
                    3547,
                    18333,
                    4583,
                    2435,
                    2699,
                    5333,
                    3691,
                    17263,
                    3597,
                    3326,
                    2600,
                    4625,
                    2895,
                    6283,
                    645,
                    3159,
                    4865,
                    4050,
                    3814,
                    3510,
                    20833,
                    3583,
                    2479,
                    13262,
                    3598,
                    6065,
                    3283,
                    2130,
                    5815,
                    3466,
                    2031,
                    3074,
                    4683,
                    3400,
                    2192,
                    2500,
                    5677,
                    7948,
                    4680,
                    17500,
                    3775,
                    5285,
                    2679,
                    6783,
                    1025,
                    4281,
                    3588,
                    11250,
                    18165,
                    2550,
                    6133,
                    3617,
                    2917,
                    6417,
                    4608,
                    2138,
                    3652,
                    2239,
                    3017,
                    2768,
                    3358,
                    2526,
                    5000,
                    2785,
                    6633,
                    2492,
                    3333,
                    2454,
                    3593,
                    5468,
                    2667,
                    10139,
                    3887,
                    4180,
                    3675,
                    19484,
                    5923,
                    5800,
                    8799,
                    4467,
                    3333,
                    3400,
                    2378,
                    3166,
                    3417,
                    5116,
                    16666,
                    6125,
                    6406,
                    3159,
                    3087,
                    3229,
                    1782,
                    3182,
                    6540,
                    1836,
                    3166,
                    1880,
                    2787,
                    4283,
                    2297,
                    2165,
                    4750,
                    2726,
                    3000,
                    6000,
                    9357,
                    3859,
                    16120,
                    3833,
                    6383,
                    2987,
                    9963,
                    5780,
                    416,
                    2894,
                    5703,
                    3676,
                    12000,
                    2400,
                    3400,
                    3987,
                    3232,
                    2900,
                    4106,
                    8072,
                    7583,
                    4583
                  ],
                  "yaxis": "y"
                }
              ],
              "layout": {
                "coloraxis": {
                  "colorbar": {
                    "title": {
                      "text": "LoanAmount"
                    }
                  },
                  "colorscale": [
                    [
                      0,
                      "#0d0887"
                    ],
                    [
                      0.1111111111111111,
                      "#46039f"
                    ],
                    [
                      0.2222222222222222,
                      "#7201a8"
                    ],
                    [
                      0.3333333333333333,
                      "#9c179e"
                    ],
                    [
                      0.4444444444444444,
                      "#bd3786"
                    ],
                    [
                      0.5555555555555556,
                      "#d8576b"
                    ],
                    [
                      0.6666666666666666,
                      "#ed7953"
                    ],
                    [
                      0.7777777777777778,
                      "#fb9f3a"
                    ],
                    [
                      0.8888888888888888,
                      "#fdca26"
                    ],
                    [
                      1,
                      "#f0f921"
                    ]
                  ]
                },
                "legend": {
                  "tracegroupgap": 0
                },
                "template": {
                  "data": {
                    "bar": [
                      {
                        "error_x": {
                          "color": "#2a3f5f"
                        },
                        "error_y": {
                          "color": "#2a3f5f"
                        },
                        "marker": {
                          "line": {
                            "color": "#E5ECF6",
                            "width": 0.5
                          },
                          "pattern": {
                            "fillmode": "overlay",
                            "size": 10,
                            "solidity": 0.2
                          }
                        },
                        "type": "bar"
                      }
                    ],
                    "barpolar": [
                      {
                        "marker": {
                          "line": {
                            "color": "#E5ECF6",
                            "width": 0.5
                          },
                          "pattern": {
                            "fillmode": "overlay",
                            "size": 10,
                            "solidity": 0.2
                          }
                        },
                        "type": "barpolar"
                      }
                    ],
                    "carpet": [
                      {
                        "aaxis": {
                          "endlinecolor": "#2a3f5f",
                          "gridcolor": "white",
                          "linecolor": "white",
                          "minorgridcolor": "white",
                          "startlinecolor": "#2a3f5f"
                        },
                        "baxis": {
                          "endlinecolor": "#2a3f5f",
                          "gridcolor": "white",
                          "linecolor": "white",
                          "minorgridcolor": "white",
                          "startlinecolor": "#2a3f5f"
                        },
                        "type": "carpet"
                      }
                    ],
                    "choropleth": [
                      {
                        "colorbar": {
                          "outlinewidth": 0,
                          "ticks": ""
                        },
                        "type": "choropleth"
                      }
                    ],
                    "contour": [
                      {
                        "colorbar": {
                          "outlinewidth": 0,
                          "ticks": ""
                        },
                        "colorscale": [
                          [
                            0,
                            "#0d0887"
                          ],
                          [
                            0.1111111111111111,
                            "#46039f"
                          ],
                          [
                            0.2222222222222222,
                            "#7201a8"
                          ],
                          [
                            0.3333333333333333,
                            "#9c179e"
                          ],
                          [
                            0.4444444444444444,
                            "#bd3786"
                          ],
                          [
                            0.5555555555555556,
                            "#d8576b"
                          ],
                          [
                            0.6666666666666666,
                            "#ed7953"
                          ],
                          [
                            0.7777777777777778,
                            "#fb9f3a"
                          ],
                          [
                            0.8888888888888888,
                            "#fdca26"
                          ],
                          [
                            1,
                            "#f0f921"
                          ]
                        ],
                        "type": "contour"
                      }
                    ],
                    "contourcarpet": [
                      {
                        "colorbar": {
                          "outlinewidth": 0,
                          "ticks": ""
                        },
                        "type": "contourcarpet"
                      }
                    ],
                    "heatmap": [
                      {
                        "colorbar": {
                          "outlinewidth": 0,
                          "ticks": ""
                        },
                        "colorscale": [
                          [
                            0,
                            "#0d0887"
                          ],
                          [
                            0.1111111111111111,
                            "#46039f"
                          ],
                          [
                            0.2222222222222222,
                            "#7201a8"
                          ],
                          [
                            0.3333333333333333,
                            "#9c179e"
                          ],
                          [
                            0.4444444444444444,
                            "#bd3786"
                          ],
                          [
                            0.5555555555555556,
                            "#d8576b"
                          ],
                          [
                            0.6666666666666666,
                            "#ed7953"
                          ],
                          [
                            0.7777777777777778,
                            "#fb9f3a"
                          ],
                          [
                            0.8888888888888888,
                            "#fdca26"
                          ],
                          [
                            1,
                            "#f0f921"
                          ]
                        ],
                        "type": "heatmap"
                      }
                    ],
                    "heatmapgl": [
                      {
                        "colorbar": {
                          "outlinewidth": 0,
                          "ticks": ""
                        },
                        "colorscale": [
                          [
                            0,
                            "#0d0887"
                          ],
                          [
                            0.1111111111111111,
                            "#46039f"
                          ],
                          [
                            0.2222222222222222,
                            "#7201a8"
                          ],
                          [
                            0.3333333333333333,
                            "#9c179e"
                          ],
                          [
                            0.4444444444444444,
                            "#bd3786"
                          ],
                          [
                            0.5555555555555556,
                            "#d8576b"
                          ],
                          [
                            0.6666666666666666,
                            "#ed7953"
                          ],
                          [
                            0.7777777777777778,
                            "#fb9f3a"
                          ],
                          [
                            0.8888888888888888,
                            "#fdca26"
                          ],
                          [
                            1,
                            "#f0f921"
                          ]
                        ],
                        "type": "heatmapgl"
                      }
                    ],
                    "histogram": [
                      {
                        "marker": {
                          "pattern": {
                            "fillmode": "overlay",
                            "size": 10,
                            "solidity": 0.2
                          }
                        },
                        "type": "histogram"
                      }
                    ],
                    "histogram2d": [
                      {
                        "colorbar": {
                          "outlinewidth": 0,
                          "ticks": ""
                        },
                        "colorscale": [
                          [
                            0,
                            "#0d0887"
                          ],
                          [
                            0.1111111111111111,
                            "#46039f"
                          ],
                          [
                            0.2222222222222222,
                            "#7201a8"
                          ],
                          [
                            0.3333333333333333,
                            "#9c179e"
                          ],
                          [
                            0.4444444444444444,
                            "#bd3786"
                          ],
                          [
                            0.5555555555555556,
                            "#d8576b"
                          ],
                          [
                            0.6666666666666666,
                            "#ed7953"
                          ],
                          [
                            0.7777777777777778,
                            "#fb9f3a"
                          ],
                          [
                            0.8888888888888888,
                            "#fdca26"
                          ],
                          [
                            1,
                            "#f0f921"
                          ]
                        ],
                        "type": "histogram2d"
                      }
                    ],
                    "histogram2dcontour": [
                      {
                        "colorbar": {
                          "outlinewidth": 0,
                          "ticks": ""
                        },
                        "colorscale": [
                          [
                            0,
                            "#0d0887"
                          ],
                          [
                            0.1111111111111111,
                            "#46039f"
                          ],
                          [
                            0.2222222222222222,
                            "#7201a8"
                          ],
                          [
                            0.3333333333333333,
                            "#9c179e"
                          ],
                          [
                            0.4444444444444444,
                            "#bd3786"
                          ],
                          [
                            0.5555555555555556,
                            "#d8576b"
                          ],
                          [
                            0.6666666666666666,
                            "#ed7953"
                          ],
                          [
                            0.7777777777777778,
                            "#fb9f3a"
                          ],
                          [
                            0.8888888888888888,
                            "#fdca26"
                          ],
                          [
                            1,
                            "#f0f921"
                          ]
                        ],
                        "type": "histogram2dcontour"
                      }
                    ],
                    "mesh3d": [
                      {
                        "colorbar": {
                          "outlinewidth": 0,
                          "ticks": ""
                        },
                        "type": "mesh3d"
                      }
                    ],
                    "parcoords": [
                      {
                        "line": {
                          "colorbar": {
                            "outlinewidth": 0,
                            "ticks": ""
                          }
                        },
                        "type": "parcoords"
                      }
                    ],
                    "pie": [
                      {
                        "automargin": true,
                        "type": "pie"
                      }
                    ],
                    "scatter": [
                      {
                        "fillpattern": {
                          "fillmode": "overlay",
                          "size": 10,
                          "solidity": 0.2
                        },
                        "type": "scatter"
                      }
                    ],
                    "scatter3d": [
                      {
                        "line": {
                          "colorbar": {
                            "outlinewidth": 0,
                            "ticks": ""
                          }
                        },
                        "marker": {
                          "colorbar": {
                            "outlinewidth": 0,
                            "ticks": ""
                          }
                        },
                        "type": "scatter3d"
                      }
                    ],
                    "scattercarpet": [
                      {
                        "marker": {
                          "colorbar": {
                            "outlinewidth": 0,
                            "ticks": ""
                          }
                        },
                        "type": "scattercarpet"
                      }
                    ],
                    "scattergeo": [
                      {
                        "marker": {
                          "colorbar": {
                            "outlinewidth": 0,
                            "ticks": ""
                          }
                        },
                        "type": "scattergeo"
                      }
                    ],
                    "scattergl": [
                      {
                        "marker": {
                          "colorbar": {
                            "outlinewidth": 0,
                            "ticks": ""
                          }
                        },
                        "type": "scattergl"
                      }
                    ],
                    "scattermapbox": [
                      {
                        "marker": {
                          "colorbar": {
                            "outlinewidth": 0,
                            "ticks": ""
                          }
                        },
                        "type": "scattermapbox"
                      }
                    ],
                    "scatterpolar": [
                      {
                        "marker": {
                          "colorbar": {
                            "outlinewidth": 0,
                            "ticks": ""
                          }
                        },
                        "type": "scatterpolar"
                      }
                    ],
                    "scatterpolargl": [
                      {
                        "marker": {
                          "colorbar": {
                            "outlinewidth": 0,
                            "ticks": ""
                          }
                        },
                        "type": "scatterpolargl"
                      }
                    ],
                    "scatterternary": [
                      {
                        "marker": {
                          "colorbar": {
                            "outlinewidth": 0,
                            "ticks": ""
                          }
                        },
                        "type": "scatterternary"
                      }
                    ],
                    "surface": [
                      {
                        "colorbar": {
                          "outlinewidth": 0,
                          "ticks": ""
                        },
                        "colorscale": [
                          [
                            0,
                            "#0d0887"
                          ],
                          [
                            0.1111111111111111,
                            "#46039f"
                          ],
                          [
                            0.2222222222222222,
                            "#7201a8"
                          ],
                          [
                            0.3333333333333333,
                            "#9c179e"
                          ],
                          [
                            0.4444444444444444,
                            "#bd3786"
                          ],
                          [
                            0.5555555555555556,
                            "#d8576b"
                          ],
                          [
                            0.6666666666666666,
                            "#ed7953"
                          ],
                          [
                            0.7777777777777778,
                            "#fb9f3a"
                          ],
                          [
                            0.8888888888888888,
                            "#fdca26"
                          ],
                          [
                            1,
                            "#f0f921"
                          ]
                        ],
                        "type": "surface"
                      }
                    ],
                    "table": [
                      {
                        "cells": {
                          "fill": {
                            "color": "#EBF0F8"
                          },
                          "line": {
                            "color": "white"
                          }
                        },
                        "header": {
                          "fill": {
                            "color": "#C8D4E3"
                          },
                          "line": {
                            "color": "white"
                          }
                        },
                        "type": "table"
                      }
                    ]
                  },
                  "layout": {
                    "annotationdefaults": {
                      "arrowcolor": "#2a3f5f",
                      "arrowhead": 0,
                      "arrowwidth": 1
                    },
                    "autotypenumbers": "strict",
                    "coloraxis": {
                      "colorbar": {
                        "outlinewidth": 0,
                        "ticks": ""
                      }
                    },
                    "colorscale": {
                      "diverging": [
                        [
                          0,
                          "#8e0152"
                        ],
                        [
                          0.1,
                          "#c51b7d"
                        ],
                        [
                          0.2,
                          "#de77ae"
                        ],
                        [
                          0.3,
                          "#f1b6da"
                        ],
                        [
                          0.4,
                          "#fde0ef"
                        ],
                        [
                          0.5,
                          "#f7f7f7"
                        ],
                        [
                          0.6,
                          "#e6f5d0"
                        ],
                        [
                          0.7,
                          "#b8e186"
                        ],
                        [
                          0.8,
                          "#7fbc41"
                        ],
                        [
                          0.9,
                          "#4d9221"
                        ],
                        [
                          1,
                          "#276419"
                        ]
                      ],
                      "sequential": [
                        [
                          0,
                          "#0d0887"
                        ],
                        [
                          0.1111111111111111,
                          "#46039f"
                        ],
                        [
                          0.2222222222222222,
                          "#7201a8"
                        ],
                        [
                          0.3333333333333333,
                          "#9c179e"
                        ],
                        [
                          0.4444444444444444,
                          "#bd3786"
                        ],
                        [
                          0.5555555555555556,
                          "#d8576b"
                        ],
                        [
                          0.6666666666666666,
                          "#ed7953"
                        ],
                        [
                          0.7777777777777778,
                          "#fb9f3a"
                        ],
                        [
                          0.8888888888888888,
                          "#fdca26"
                        ],
                        [
                          1,
                          "#f0f921"
                        ]
                      ],
                      "sequentialminus": [
                        [
                          0,
                          "#0d0887"
                        ],
                        [
                          0.1111111111111111,
                          "#46039f"
                        ],
                        [
                          0.2222222222222222,
                          "#7201a8"
                        ],
                        [
                          0.3333333333333333,
                          "#9c179e"
                        ],
                        [
                          0.4444444444444444,
                          "#bd3786"
                        ],
                        [
                          0.5555555555555556,
                          "#d8576b"
                        ],
                        [
                          0.6666666666666666,
                          "#ed7953"
                        ],
                        [
                          0.7777777777777778,
                          "#fb9f3a"
                        ],
                        [
                          0.8888888888888888,
                          "#fdca26"
                        ],
                        [
                          1,
                          "#f0f921"
                        ]
                      ]
                    },
                    "colorway": [
                      "#636efa",
                      "#EF553B",
                      "#00cc96",
                      "#ab63fa",
                      "#FFA15A",
                      "#19d3f3",
                      "#FF6692",
                      "#B6E880",
                      "#FF97FF",
                      "#FECB52"
                    ],
                    "font": {
                      "color": "#2a3f5f"
                    },
                    "geo": {
                      "bgcolor": "white",
                      "lakecolor": "white",
                      "landcolor": "#E5ECF6",
                      "showlakes": true,
                      "showland": true,
                      "subunitcolor": "white"
                    },
                    "hoverlabel": {
                      "align": "left"
                    },
                    "hovermode": "closest",
                    "mapbox": {
                      "style": "light"
                    },
                    "paper_bgcolor": "white",
                    "plot_bgcolor": "#E5ECF6",
                    "polar": {
                      "angularaxis": {
                        "gridcolor": "white",
                        "linecolor": "white",
                        "ticks": ""
                      },
                      "bgcolor": "#E5ECF6",
                      "radialaxis": {
                        "gridcolor": "white",
                        "linecolor": "white",
                        "ticks": ""
                      }
                    },
                    "scene": {
                      "xaxis": {
                        "backgroundcolor": "#E5ECF6",
                        "gridcolor": "white",
                        "gridwidth": 2,
                        "linecolor": "white",
                        "showbackground": true,
                        "ticks": "",
                        "zerolinecolor": "white"
                      },
                      "yaxis": {
                        "backgroundcolor": "#E5ECF6",
                        "gridcolor": "white",
                        "gridwidth": 2,
                        "linecolor": "white",
                        "showbackground": true,
                        "ticks": "",
                        "zerolinecolor": "white"
                      },
                      "zaxis": {
                        "backgroundcolor": "#E5ECF6",
                        "gridcolor": "white",
                        "gridwidth": 2,
                        "linecolor": "white",
                        "showbackground": true,
                        "ticks": "",
                        "zerolinecolor": "white"
                      }
                    },
                    "shapedefaults": {
                      "line": {
                        "color": "#2a3f5f"
                      }
                    },
                    "ternary": {
                      "aaxis": {
                        "gridcolor": "white",
                        "linecolor": "white",
                        "ticks": ""
                      },
                      "baxis": {
                        "gridcolor": "white",
                        "linecolor": "white",
                        "ticks": ""
                      },
                      "bgcolor": "#E5ECF6",
                      "caxis": {
                        "gridcolor": "white",
                        "linecolor": "white",
                        "ticks": ""
                      }
                    },
                    "title": {
                      "x": 0.05
                    },
                    "xaxis": {
                      "automargin": true,
                      "gridcolor": "white",
                      "linecolor": "white",
                      "ticks": "",
                      "title": {
                        "standoff": 15
                      },
                      "zerolinecolor": "white",
                      "zerolinewidth": 2
                    },
                    "yaxis": {
                      "automargin": true,
                      "gridcolor": "white",
                      "linecolor": "white",
                      "ticks": "",
                      "title": {
                        "standoff": 15
                      },
                      "zerolinecolor": "white",
                      "zerolinewidth": 2
                    }
                  }
                },
                "title": {
                  "text": "Relatonship Btw LoanAmount and ApplicantIncome is 56.99999999999999%"
                },
                "xaxis": {
                  "anchor": "y",
                  "domain": [
                    0,
                    1
                  ],
                  "title": {
                    "text": "LoanAmount"
                  }
                },
                "yaxis": {
                  "anchor": "x",
                  "domain": [
                    0,
                    1
                  ],
                  "title": {
                    "text": "ApplicantIncome"
                  }
                }
              }
            }
          },
          "metadata": {},
          "output_type": "display_data"
        }
      ],
      "source": [
        "# Is there a relationship between sales and Profit\n",
        "\n",
        "px.scatter(data_frame=data, x='LoanAmount', y='ApplicantIncome', title = f\"Relatonship Btw LoanAmount and ApplicantIncome is {(data['LoanAmount'].corr(data['ApplicantIncome']).round(2) * 100)}%\", color = 'LoanAmount')"
      ]
    },
    {
      "cell_type": "markdown",
      "metadata": {
        "id": "W6B7EEpfI2Fg"
      },
      "source": [
        "<b><h3>Modelling"
      ]
    },
    {
      "cell_type": "code",
      "execution_count": 26,
      "metadata": {
        "colab": {
          "base_uri": "https://localhost:8080/",
          "height": 467
        },
        "id": "U15OxVV0I70X",
        "outputId": "ac9102fa-6ec3-4e27-cda1-2942a3037dee"
      },
      "outputs": [
        {
          "data": {
            "text/plain": [
              "<Axes: xlabel='Loan_Status', ylabel='count'>"
            ]
          },
          "execution_count": 26,
          "metadata": {},
          "output_type": "execute_result"
        },
        {
          "data": {
            "image/png": "[encoded data removed]",
            "text/plain": [
              "<Figure size 640x480 with 1 Axes>"
            ]
          },
          "metadata": {},
          "output_type": "display_data"
        }
      ],
      "source": [
        "sns.countplot(x = new_data.Loan_Status)"
      ]
    },
    {
      "cell_type": "code",
      "execution_count": 27,
      "metadata": {
        "id": "gKlkVtV7JCua"
      },
      "outputs": [],
      "source": [
        "from sklearn.model_selection import train_test_split\n",
        "from sklearn.linear_model import LogisticRegression\n",
        "from sklearn.metrics import classification_report, confusion_matrix\n",
        "\n",
        "x = new_data.drop('Loan_Status', axis = 1)\n",
        "y = new_data.Loan_Status\n",
        "\n",
        "xtrain, xtest, ytrain, ytest = train_test_split(x, y, test_size = 0.2, random_state = 4, stratify = y)"
      ]
    },
    {
      "cell_type": "code",
      "execution_count": 28,
      "metadata": {
        "colab": {
          "base_uri": "https://localhost:8080/"
        },
        "id": "NQkOpJQtJJWK",
        "outputId": "c75f24b1-f622-431c-fdc0-bf4fe22f1194"
      },
      "outputs": [
        {
          "name": "stdout",
          "output_type": "stream",
          "text": [
            "              precision    recall  f1-score   support\n",
            "\n",
            "           0       0.43      0.90      0.58        73\n",
            "           1       0.98      0.79      0.87       418\n",
            "\n",
            "    accuracy                           0.81       491\n",
            "   macro avg       0.70      0.85      0.73       491\n",
            "weighted avg       0.90      0.81      0.83       491\n",
            "\n"
          ]
        }
      ],
      "source": [
        "logreg = LogisticRegression()\n",
        "logreg.fit(xtrain, ytrain)\n",
        "\n",
        "cross_val = logreg.predict(xtrain)\n",
        "print(classification_report(cross_val, ytrain))"
      ]
    },
    {
      "cell_type": "code",
      "execution_count": 29,
      "metadata": {
        "colab": {
          "base_uri": "https://localhost:8080/",
          "height": 237
        },
        "id": "kBfnHBXFJQCn",
        "outputId": "4028ccb1-3325-4b15-fdf7-6267d0484ee2"
      },
      "outputs": [
        {
          "data": {
            "text/plain": [
              "<Axes: >"
            ]
          },
          "execution_count": 29,
          "metadata": {},
          "output_type": "execute_result"
        },
        {
          "data": {
            "image/png": "[encoded data removed]",
            "text/plain": [
              "<Figure size 400x200 with 2 Axes>"
            ]
          },
          "metadata": {},
          "output_type": "display_data"
        }
      ],
      "source": [
        "revealer = confusion_matrix(cross_val, ytrain)\n",
        "plt.figure(figsize = (4,2))\n",
        "sns.set(style = 'darkgrid')\n",
        "sns.heatmap(revealer/np.sum(revealer), annot=True, cmap='crest', linewidth=5)"
      ]
    },
    {
      "cell_type": "code",
      "execution_count": 30,
      "metadata": {
        "colab": {
          "base_uri": "https://localhost:8080/",
          "height": 404
        },
        "id": "JfLBvS5kJYP_",
        "outputId": "2a48dff8-8889-45de-bc9d-3da07757388b"
      },
      "outputs": [
        {
          "name": "stdout",
          "output_type": "stream",
          "text": [
            "              precision    recall  f1-score   support\n",
            "\n",
            "           0       0.42      1.00      0.59        16\n",
            "           1       1.00      0.79      0.89       107\n",
            "\n",
            "    accuracy                           0.82       123\n",
            "   macro avg       0.71      0.90      0.74       123\n",
            "weighted avg       0.92      0.82      0.85       123\n",
            "\n"
          ]
        },
        {
          "data": {
            "text/plain": [
              "<Axes: >"
            ]
          },
          "execution_count": 30,
          "metadata": {},
          "output_type": "execute_result"
        },
        {
          "data": {
            "image/png": "[encoded data removed]",
            "text/plain": [
              "<Figure size 400x200 with 2 Axes>"
            ]
          },
          "metadata": {},
          "output_type": "display_data"
        }
      ],
      "source": [
        "# Evaluating the test set\n",
        "test_pred = logreg.predict(xtest)\n",
        "\n",
        "print(classification_report(test_pred, ytest))\n",
        "\n",
        "revealer = confusion_matrix(test_pred, ytest)\n",
        "plt.figure(figsize = (4,2))\n",
        "sns.set(style = 'darkgrid')\n",
        "sns.heatmap(revealer/np.sum(revealer), annot=True, cmap='crest', linewidth=5)\n"
      ]
    },
    {
      "cell_type": "markdown",
      "metadata": {
        "id": "feHy16zhhiM_"
      },
      "source": [
        "<hr>\n",
        "<h3><b>Random oversampling using Synthetic Minority Oversampling Technique (SMOTE). To help reduce the bias of the model towards the majority dataset\n"
      ]
    },
    {
      "cell_type": "code",
      "execution_count": 31,
      "metadata": {
        "id": "CrjpTGrIczU6"
      },
      "outputs": [],
      "source": [
        "from imblearn.over_sampling import SMOTE\n",
        "\n",
        "from sklearn.metrics import accuracy_score\n",
        "\n",
        "smote = SMOTE(sampling_strategy= 'auto', random_state=56)\n",
        "X_resampled, y_resampled = smote.fit_resample(xtrain, ytrain)"
      ]
    },
    {
      "cell_type": "code",
      "execution_count": 32,
      "metadata": {
        "colab": {
          "base_uri": "https://localhost:8080/"
        },
        "id": "p7Sx-PLCZ_sy",
        "outputId": "62a95294-04dc-4588-99b9-62822029f2c8"
      },
      "outputs": [
        {
          "name": "stdout",
          "output_type": "stream",
          "text": [
            "Highest Random State is: 72\n"
          ]
        }
      ],
      "source": [
        "# To get the best random state to use\n",
        "score = []\n",
        "for i in range(100):\n",
        "    smote = SMOTE(sampling_strategy= 'auto', random_state = i)\n",
        "    X_resampled, y_resampled = smote.fit_resample(xtrain, ytrain)\n",
        "\n",
        "    test_model = LogisticRegression()\n",
        "    test_model.fit(X_resampled, y_resampled)\n",
        "\n",
        "    cross_val = test_model.predict(X_resampled)\n",
        "    score.append(accuracy_score(cross_val, y_resampled))\n",
        "\n",
        "print(f'Highest Random State is: {np.array(score).argmax()}')"
      ]
    },
    {
      "cell_type": "code",
      "execution_count": 33,
      "metadata": {
        "id": "WXBr-xZReELc"
      },
      "outputs": [],
      "source": [
        "smote = SMOTE(sampling_strategy= 'auto', random_state=72)\n",
        "X_resampled, y_resampled = smote.fit_resample(xtrain, ytrain)"
      ]
    },
    {
      "cell_type": "code",
      "execution_count": 34,
      "metadata": {
        "colab": {
          "base_uri": "https://localhost:8080/",
          "height": 478
        },
        "id": "_o2WiE8WeLlO",
        "outputId": "e58e2d6d-7614-49c7-9f5d-66d018ae345c"
      },
      "outputs": [
        {
          "data": {
            "text/plain": [
              "<Axes: xlabel='Loan_Status', ylabel='count'>"
            ]
          },
          "execution_count": 34,
          "metadata": {},
          "output_type": "execute_result"
        },
        {
          "data": {
            "image/png": "[encoded data removed]",
            "text/plain": [
              "<Figure size 640x480 with 1 Axes>"
            ]
          },
          "metadata": {},
          "output_type": "display_data"
        }
      ],
      "source": [
        "new_balanced_data_smote = pd.concat([X_resampled, y_resampled], axis = 1)\n",
        "\n",
        "sns.countplot(x = new_balanced_data_smote['Loan_Status'])"
      ]
    },
    {
      "cell_type": "code",
      "execution_count": 35,
      "metadata": {
        "colab": {
          "base_uri": "https://localhost:8080/"
        },
        "id": "nYeLGFwredAR",
        "outputId": "0605a522-77d9-4de2-9323-3b2480bbd39d"
      },
      "outputs": [
        {
          "name": "stdout",
          "output_type": "stream",
          "text": [
            "              precision    recall  f1-score   support\n",
            "\n",
            "           0       0.51      0.95      0.67       183\n",
            "           1       0.97      0.67      0.79       491\n",
            "\n",
            "    accuracy                           0.74       674\n",
            "   macro avg       0.74      0.81      0.73       674\n",
            "weighted avg       0.85      0.74      0.76       674\n",
            "\n"
          ]
        }
      ],
      "source": [
        "logreg = LogisticRegression()\n",
        "logreg.fit(X_resampled, y_resampled)\n",
        "\n",
        "cross_val = logreg.predict(X_resampled)\n",
        "print(classification_report(cross_val, y_resampled))"
      ]
    },
    {
      "cell_type": "code",
      "execution_count": 36,
      "metadata": {
        "id": "ZZaEMl17jFwy"
      },
      "outputs": [],
      "source": [
        "import pickle, joblib\n",
        "pickle.dump(logreg, open('Loan_Predictmodel.pkl', \"wb\"))"
      ]
    }
  ],
  "metadata": {
    "colab": {
      "provenance": []
    },
    "kernelspec": {
      "display_name": "Python 3",
      "name": "python3"
    },
    "language_info": {
      "codemirror_mode": {
        "name": "ipython",
        "version": 3
      },
      "file_extension": ".py",
      "mimetype": "text/x-python",
      "name": "python",
      "nbconvert_exporter": "python",
      "pygments_lexer": "ipython3",
      "version": "3.10.0"
    }
  },
  "nbformat": 4,
  "nbformat_minor": 0
}
